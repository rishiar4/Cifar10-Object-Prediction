{
  "nbformat": 4,
  "nbformat_minor": 0,
  "metadata": {
    "kernelspec": {
      "display_name": "Python 3",
      "language": "python",
      "name": "python3"
    },
    "language_info": {
      "codemirror_mode": {
        "name": "ipython",
        "version": 3
      },
      "file_extension": ".py",
      "mimetype": "text/x-python",
      "name": "python",
      "nbconvert_exporter": "python",
      "pygments_lexer": "ipython3",
      "version": "3.7.3"
    },
    "colab": {
      "name": "CIFAR10.ipynb",
      "provenance": []
    },
    "accelerator": "GPU"
  },
  "cells": [
    {
      "cell_type": "code",
      "metadata": {
        "id": "qz0vpDlHibY7",
        "colab_type": "code",
        "colab": {
          "base_uri": "https://localhost:8080/",
          "height": 34
        },
        "outputId": "1391b0df-d49b-4378-afc7-fe7c5443f615"
      },
      "source": [
        "import keras\n",
        "from matplotlib import pyplot as plt\n",
        "import numpy as np\n"
      ],
      "execution_count": 1,
      "outputs": [
        {
          "output_type": "stream",
          "text": [
            "Using TensorFlow backend.\n"
          ],
          "name": "stderr"
        }
      ]
    },
    {
      "cell_type": "code",
      "metadata": {
        "id": "qU3jXZMV1LIB",
        "colab_type": "code",
        "colab": {}
      },
      "source": [
        "# Loading Data Set"
      ],
      "execution_count": 2,
      "outputs": []
    },
    {
      "cell_type": "code",
      "metadata": {
        "id": "v2QDnOnCibZI",
        "colab_type": "code",
        "colab": {}
      },
      "source": [
        "from keras.datasets import cifar10"
      ],
      "execution_count": 3,
      "outputs": []
    },
    {
      "cell_type": "code",
      "metadata": {
        "id": "Zg6VWF52ibZP",
        "colab_type": "code",
        "colab": {
          "base_uri": "https://localhost:8080/",
          "height": 51
        },
        "outputId": "2f1d1899-c928-470e-9100-be948fc306aa"
      },
      "source": [
        "(X_train,Y_train),(X_test,Y_test) = cifar10.load_data()"
      ],
      "execution_count": 4,
      "outputs": [
        {
          "output_type": "stream",
          "text": [
            "Downloading data from https://www.cs.toronto.edu/~kriz/cifar-10-python.tar.gz\n",
            "170500096/170498071 [==============================] - 2s 0us/step\n"
          ],
          "name": "stdout"
        }
      ]
    },
    {
      "cell_type": "code",
      "metadata": {
        "id": "PaWEZsVsibZX",
        "colab_type": "code",
        "colab": {
          "base_uri": "https://localhost:8080/",
          "height": 34
        },
        "outputId": "b8dee1b6-6aa0-455d-d62a-7c6f4a2a4f98"
      },
      "source": [
        "X_train.shape"
      ],
      "execution_count": 5,
      "outputs": [
        {
          "output_type": "execute_result",
          "data": {
            "text/plain": [
              "(50000, 32, 32, 3)"
            ]
          },
          "metadata": {
            "tags": []
          },
          "execution_count": 5
        }
      ]
    },
    {
      "cell_type": "code",
      "metadata": {
        "id": "HvDvktGgibZe",
        "colab_type": "code",
        "colab": {
          "base_uri": "https://localhost:8080/",
          "height": 34
        },
        "outputId": "428323ff-3162-4e0e-efa9-5dcbe07da8bb"
      },
      "source": [
        "Y_train.shape"
      ],
      "execution_count": 6,
      "outputs": [
        {
          "output_type": "execute_result",
          "data": {
            "text/plain": [
              "(50000, 1)"
            ]
          },
          "metadata": {
            "tags": []
          },
          "execution_count": 6
        }
      ]
    },
    {
      "cell_type": "code",
      "metadata": {
        "id": "-KJm4bTlibZm",
        "colab_type": "code",
        "colab": {}
      },
      "source": [
        "# 0: airplane\n",
        "# 1: automobile\n",
        "# 2: bird\n",
        "# 3: cat\n",
        "# 4: deer\n",
        "# 5: dog\n",
        "# 6: frog\n",
        "# 7: horse\n",
        "# 8: ship\n",
        "# 9: truck\n",
        "\n",
        "names = [\n",
        "    \"aquatic mammals\",\n",
        "    \"fish\",\n",
        "    \"flowers\",\n",
        "    \"food containers\",\n",
        "    \"fruit and vegetables\",\n",
        "    \"household electrical devices\",\n",
        "    \"household furniture\",\n",
        "    \"insects\",\n",
        "    \"large carnivores\",\n",
        "    \"large man-made outdoor things\",\n",
        "    \"large natural outdoor scenes\",\n",
        "    \"large omnivores and herbivores\",\n",
        "    \"medium-sized mammals\",\n",
        "    \"non-insect invertebrates\",\n",
        "    \"people\",\n",
        "    \"reptiles\",   \n",
        "    \"small mammals\",\n",
        "    \"trees\",\n",
        "    \"vehicles 1\",\n",
        "    \"vehicles 2\" \n",
        "]"
      ],
      "execution_count": 35,
      "outputs": []
    },
    {
      "cell_type": "code",
      "metadata": {
        "id": "fymLkBMeibZu",
        "colab_type": "code",
        "colab": {}
      },
      "source": [
        "# Normalising Data\n",
        "X_train = X_train.astype('float32')\n",
        "X_test = X_test.astype('float32')\n",
        "X_train = X_train / 255\n",
        "X_test = X_test / 255\n",
        "\n",
        "# Coverting Labels into Categorical Type\n",
        "Y_train = keras.utils.to_categorical(Y_train,10)\n",
        "Y_test = keras.utils.to_categorical(Y_test,10)"
      ],
      "execution_count": 8,
      "outputs": []
    },
    {
      "cell_type": "code",
      "metadata": {
        "id": "WqZ7Y1ZdibZ1",
        "colab_type": "code",
        "colab": {
          "base_uri": "https://localhost:8080/",
          "height": 309
        },
        "outputId": "0537dd08-c47c-4e27-ebd4-8297c8b3a0ce"
      },
      "source": [
        "print(Y_train[60][1])\n",
        "plt.matshow(X_train[60])"
      ],
      "execution_count": 9,
      "outputs": [
        {
          "output_type": "stream",
          "text": [
            "1.0\n"
          ],
          "name": "stdout"
        },
        {
          "output_type": "execute_result",
          "data": {
            "text/plain": [
              "<matplotlib.image.AxesImage at 0x7fe17fb82518>"
            ]
          },
          "metadata": {
            "tags": []
          },
          "execution_count": 9
        },
        {
          "output_type": "display_data",
          "data": {
            "image/png": "[encoded data removed]",
            "text/plain": [
              "<Figure size 288x288 with 1 Axes>"
            ]
          },
          "metadata": {
            "tags": [],
            "needs_background": "light"
          }
        }
      ]
    },
    {
      "cell_type": "code",
      "metadata": {
        "id": "Qeu4qNkSibZ9",
        "colab_type": "code",
        "colab": {
          "base_uri": "https://localhost:8080/",
          "height": 268
        },
        "outputId": "b1e8d79f-4585-474d-8c7c-68c54378422d"
      },
      "source": [
        "for i in range(9):\n",
        "    # define subplot\n",
        "    plt.subplot(330 + 1 + i)\n",
        "    # plot raw pixel data\n",
        "    plt.imshow(X_train[i])"
      ],
      "execution_count": 10,
      "outputs": [
        {
          "output_type": "display_data",
          "data": {
            "image/png": "[encoded data removed]",
            "text/plain": [
              "<Figure size 432x288 with 9 Axes>"
            ]
          },
          "metadata": {
            "tags": [],
            "needs_background": "light"
          }
        }
      ]
    },
    {
      "cell_type": "code",
      "metadata": {
        "id": "mkK6axIIibaE",
        "colab_type": "code",
        "colab": {}
      },
      "source": [
        "# Importing Keras Layers & Dense Models"
      ],
      "execution_count": 11,
      "outputs": []
    },
    {
      "cell_type": "code",
      "metadata": {
        "id": "M6cT89J6ibaL",
        "colab_type": "code",
        "colab": {}
      },
      "source": [
        "from keras.models import Sequential\n",
        "from keras.layers import Conv2D,Dense,Flatten,Dropout,MaxPooling2D,Activation"
      ],
      "execution_count": 12,
      "outputs": []
    },
    {
      "cell_type": "code",
      "metadata": {
        "id": "SICzUAW6ibaR",
        "colab_type": "code",
        "colab": {
          "base_uri": "https://localhost:8080/",
          "height": 34
        },
        "outputId": "c65f8f69-99bc-4c1e-d074-15732993513e"
      },
      "source": [
        "X_train.shape[1:]"
      ],
      "execution_count": 13,
      "outputs": [
        {
          "output_type": "execute_result",
          "data": {
            "text/plain": [
              "(32, 32, 3)"
            ]
          },
          "metadata": {
            "tags": []
          },
          "execution_count": 13
        }
      ]
    },
    {
      "cell_type": "code",
      "metadata": {
        "id": "1i8h1h9GibaY",
        "colab_type": "code",
        "colab": {}
      },
      "source": [
        "model = Sequential()\n",
        "#input shape is 32, 32, 3\n",
        "model.add(Conv2D(64,(3,3),input_shape = X_train.shape[1:],activation = 'relu'))\n",
        "model.add(Conv2D(64,(3,3),activation = 'relu'))\n",
        "#implementing MaxPooling2D\n",
        "model.add(MaxPooling2D())\n",
        "model.add(Dropout(0.4))\n",
        "model.add(Conv2D(32,(3,3),activation = 'relu'))\n",
        "model.add(Conv2D(64,(3,3),activation = 'relu'))\n",
        "model.add(MaxPooling2D())\n",
        "model.add(Dropout(0.45))\n",
        "model.add(Flatten())\n",
        "model.add(Dense(2048, activation='relu'))\n",
        "model.add(Dense(1024,activation='relu'))\n",
        "model.add(Dense(256,activation='relu'))\n",
        "model.add(Dense(128,activation='relu'))\n",
        "model.add(Dense(64,activation='relu'))\n",
        "model.add(Dense(96,activation='relu'))\n",
        "#using Softmax for final layer\n",
        "model.add(Dense(10,activation='softmax'))"
      ],
      "execution_count": 14,
      "outputs": []
    },
    {
      "cell_type": "code",
      "metadata": {
        "id": "aXZxi3VJibae",
        "colab_type": "code",
        "colab": {}
      },
      "source": [
        "#Summary of the Model"
      ],
      "execution_count": 15,
      "outputs": []
    },
    {
      "cell_type": "code",
      "metadata": {
        "id": "IYqngaiwibak",
        "colab_type": "code",
        "colab": {
          "base_uri": "https://localhost:8080/",
          "height": 697
        },
        "outputId": "491e62d8-bd51-4810-ba6f-d6bd4ec78100"
      },
      "source": [
        "model.summary()"
      ],
      "execution_count": 16,
      "outputs": [
        {
          "output_type": "stream",
          "text": [
            "Model: \"sequential_1\"\n",
            "_________________________________________________________________\n",
            "Layer (type)                 Output Shape              Param #   \n",
            "=================================================================\n",
            "conv2d_1 (Conv2D)            (None, 30, 30, 64)        1792      \n",
            "_________________________________________________________________\n",
            "conv2d_2 (Conv2D)            (None, 28, 28, 64)        36928     \n",
            "_________________________________________________________________\n",
            "max_pooling2d_1 (MaxPooling2 (None, 14, 14, 64)        0         \n",
            "_________________________________________________________________\n",
            "dropout_1 (Dropout)          (None, 14, 14, 64)        0         \n",
            "_________________________________________________________________\n",
            "conv2d_3 (Conv2D)            (None, 12, 12, 32)        18464     \n",
            "_________________________________________________________________\n",
            "conv2d_4 (Conv2D)            (None, 10, 10, 64)        18496     \n",
            "_________________________________________________________________\n",
            "max_pooling2d_2 (MaxPooling2 (None, 5, 5, 64)          0         \n",
            "_________________________________________________________________\n",
            "dropout_2 (Dropout)          (None, 5, 5, 64)          0         \n",
            "_________________________________________________________________\n",
            "flatten_1 (Flatten)          (None, 1600)              0         \n",
            "_________________________________________________________________\n",
            "dense_1 (Dense)              (None, 2048)              3278848   \n",
            "_________________________________________________________________\n",
            "dense_2 (Dense)              (None, 1024)              2098176   \n",
            "_________________________________________________________________\n",
            "dense_3 (Dense)              (None, 256)               262400    \n",
            "_________________________________________________________________\n",
            "dense_4 (Dense)              (None, 128)               32896     \n",
            "_________________________________________________________________\n",
            "dense_5 (Dense)              (None, 64)                8256      \n",
            "_________________________________________________________________\n",
            "dense_6 (Dense)              (None, 96)                6240      \n",
            "_________________________________________________________________\n",
            "dense_7 (Dense)              (None, 10)                970       \n",
            "=================================================================\n",
            "Total params: 5,763,466\n",
            "Trainable params: 5,763,466\n",
            "Non-trainable params: 0\n",
            "_________________________________________________________________\n"
          ],
          "name": "stdout"
        }
      ]
    },
    {
      "cell_type": "code",
      "metadata": {
        "id": "mmosykptibar",
        "colab_type": "code",
        "colab": {}
      },
      "source": [
        "#Compiling the model, using adam optimizer for the same."
      ],
      "execution_count": 17,
      "outputs": []
    },
    {
      "cell_type": "code",
      "metadata": {
        "id": "0rVVJ7AAibay",
        "colab_type": "code",
        "colab": {}
      },
      "source": [
        "model.compile(loss='categorical_crossentropy',optimizer='adam',metrics=['accuracy'])"
      ],
      "execution_count": 18,
      "outputs": []
    },
    {
      "cell_type": "code",
      "metadata": {
        "id": "AbREfNGmiba4",
        "colab_type": "code",
        "colab": {
          "base_uri": "https://localhost:8080/",
          "height": 374
        },
        "outputId": "8ae4d74a-f291-40d9-8283-386a1b7bc6e5"
      },
      "source": [
        "mmfit = model.fit(X_train,Y_train,batch_size=128,epochs = 10,validation_data=(X_test,Y_test))"
      ],
      "execution_count": 19,
      "outputs": [
        {
          "output_type": "stream",
          "text": [
            "Train on 50000 samples, validate on 10000 samples\n",
            "Epoch 1/10\n",
            "50000/50000 [==============================] - 23s 462us/step - loss: 1.7658 - accuracy: 0.3318 - val_loss: 1.4768 - val_accuracy: 0.4561\n",
            "Epoch 2/10\n",
            "50000/50000 [==============================] - 16s 329us/step - loss: 1.3481 - accuracy: 0.5071 - val_loss: 1.2328 - val_accuracy: 0.5565\n",
            "Epoch 3/10\n",
            "50000/50000 [==============================] - 16s 327us/step - loss: 1.1676 - accuracy: 0.5816 - val_loss: 1.0710 - val_accuracy: 0.6171\n",
            "Epoch 4/10\n",
            "50000/50000 [==============================] - 17s 339us/step - loss: 1.0328 - accuracy: 0.6339 - val_loss: 0.9533 - val_accuracy: 0.6622\n",
            "Epoch 5/10\n",
            "50000/50000 [==============================] - 17s 332us/step - loss: 0.9317 - accuracy: 0.6724 - val_loss: 0.8630 - val_accuracy: 0.7006\n",
            "Epoch 6/10\n",
            "50000/50000 [==============================] - 17s 332us/step - loss: 0.8450 - accuracy: 0.7056 - val_loss: 0.7931 - val_accuracy: 0.7254\n",
            "Epoch 7/10\n",
            "50000/50000 [==============================] - 17s 332us/step - loss: 0.7725 - accuracy: 0.7296 - val_loss: 0.7724 - val_accuracy: 0.7364\n",
            "Epoch 8/10\n",
            "50000/50000 [==============================] - 17s 332us/step - loss: 0.7137 - accuracy: 0.7500 - val_loss: 0.7215 - val_accuracy: 0.7498\n",
            "Epoch 9/10\n",
            "50000/50000 [==============================] - 17s 331us/step - loss: 0.6595 - accuracy: 0.7693 - val_loss: 0.7664 - val_accuracy: 0.7330\n",
            "Epoch 10/10\n",
            "50000/50000 [==============================] - 17s 331us/step - loss: 0.6172 - accuracy: 0.7840 - val_loss: 0.7237 - val_accuracy: 0.7532\n"
          ],
          "name": "stdout"
        }
      ]
    },
    {
      "cell_type": "code",
      "metadata": {
        "id": "QpjZScUeibbA",
        "colab_type": "code",
        "colab": {}
      },
      "source": [
        "# mmfit2 = model.fit(X_train,Y_train,batch_size=100,epochs = 10)"
      ],
      "execution_count": 20,
      "outputs": []
    },
    {
      "cell_type": "code",
      "metadata": {
        "id": "RBC_TCCvibbF",
        "colab_type": "code",
        "colab": {}
      },
      "source": [
        "#Evaluating the test case"
      ],
      "execution_count": 21,
      "outputs": []
    },
    {
      "cell_type": "code",
      "metadata": {
        "id": "-4cvHeuuibbK",
        "colab_type": "code",
        "colab": {
          "base_uri": "https://localhost:8080/",
          "height": 51
        },
        "outputId": "09eefb41-6f92-4d58-ab1e-11fc3a10d09c"
      },
      "source": [
        "model.evaluate(X_test,Y_test)"
      ],
      "execution_count": 22,
      "outputs": [
        {
          "output_type": "stream",
          "text": [
            "10000/10000 [==============================] - 2s 200us/step\n"
          ],
          "name": "stdout"
        },
        {
          "output_type": "execute_result",
          "data": {
            "text/plain": [
              "[0.7237224860191345, 0.7531999945640564]"
            ]
          },
          "metadata": {
            "tags": []
          },
          "execution_count": 22
        }
      ]
    },
    {
      "cell_type": "code",
      "metadata": {
        "id": "s5pnzYYuibbQ",
        "colab_type": "code",
        "colab": {}
      },
      "source": [
        "#Saving the Model"
      ],
      "execution_count": 23,
      "outputs": []
    },
    {
      "cell_type": "code",
      "metadata": {
        "id": "Pbs-1S7Libbu",
        "colab_type": "code",
        "colab": {}
      },
      "source": [
        "model.save(\"Model.h5\")"
      ],
      "execution_count": 24,
      "outputs": []
    },
    {
      "cell_type": "code",
      "metadata": {
        "id": "UiQ1jc48ibbW",
        "colab_type": "code",
        "colab": {}
      },
      "source": [
        ""
      ],
      "execution_count": 24,
      "outputs": []
    },
    {
      "cell_type": "code",
      "metadata": {
        "id": "MzJXIpYNilvn",
        "colab_type": "code",
        "colab": {}
      },
      "source": [
        "#Plotting the Accuracy with respect to the test data"
      ],
      "execution_count": 25,
      "outputs": []
    },
    {
      "cell_type": "code",
      "metadata": {
        "id": "Y-yerWnyibb5",
        "colab_type": "code",
        "colab": {}
      },
      "source": [
        "# plt.plot(history.history['accuracy'])\n",
        "# plt.plot(history.history['val_accuracy'])\n",
        "# plt.title('model accuracy')\n",
        "# plt.ylabel('accuracy')\n",
        "# plt.xlabel('epoch')\n",
        "# plt.legend(['train', 'test'], loc='upper left')\n",
        "# plt.show()\n",
        "# # summarize history for loss\n",
        "# plt.plot(history.history['loss'])\n",
        "# plt.plot(history.history['val_loss'])\n",
        "# plt.title('model loss')\n",
        "# plt.ylabel('loss')\n",
        "# plt.xlabel('epoch')\n",
        "# plt.legend(['train', 'test'], loc='upper left')\n",
        "# plt.show()"
      ],
      "execution_count": 26,
      "outputs": []
    },
    {
      "cell_type": "code",
      "metadata": {
        "id": "VUrgczn9ibbc",
        "colab_type": "code",
        "colab": {}
      },
      "source": [
        ""
      ],
      "execution_count": 26,
      "outputs": []
    },
    {
      "cell_type": "code",
      "metadata": {
        "id": "sV795Ucnibbj",
        "colab_type": "code",
        "colab": {}
      },
      "source": [
        "#Predicting Values"
      ],
      "execution_count": 27,
      "outputs": []
    },
    {
      "cell_type": "code",
      "metadata": {
        "id": "iCfZB__Hibbp",
        "colab_type": "code",
        "colab": {}
      },
      "source": [
        "yp = model.predict(X_test)"
      ],
      "execution_count": 28,
      "outputs": []
    },
    {
      "cell_type": "code",
      "metadata": {
        "id": "VTqumluxibb0",
        "colab_type": "code",
        "colab": {
          "base_uri": "https://localhost:8080/",
          "height": 292
        },
        "outputId": "2b72ed5f-c444-4622-934e-585ad10fc749"
      },
      "source": [
        "plt.matshow(X_test[400])"
      ],
      "execution_count": 37,
      "outputs": [
        {
          "output_type": "execute_result",
          "data": {
            "text/plain": [
              "<matplotlib.image.AxesImage at 0x7fe125b85898>"
            ]
          },
          "metadata": {
            "tags": []
          },
          "execution_count": 37
        },
        {
          "output_type": "display_data",
          "data": {
            "image/png": "[encoded data removed]",
            "text/plain": [
              "<Figure size 288x288 with 1 Axes>"
            ]
          },
          "metadata": {
            "tags": [],
            "needs_background": "light"
          }
        }
      ]
    },
    {
      "cell_type": "code",
      "metadata": {
        "id": "8pH2EjK_ibb_",
        "colab_type": "code",
        "colab": {
          "base_uri": "https://localhost:8080/",
          "height": 51
        },
        "outputId": "646360eb-fc2a-485e-9879-4a62d0ad7177"
      },
      "source": [
        "print(yp[400])"
      ],
      "execution_count": 46,
      "outputs": [
        {
          "output_type": "stream",
          "text": [
            "[6.3307380e-04 1.6829750e-03 1.8380284e-03 1.3810662e-03 1.7152295e-03\n",
            " 5.6256918e-04 2.6491497e-04 5.5938442e-03 6.3685125e-05 9.8626453e-01]\n"
          ],
          "name": "stdout"
        }
      ]
    },
    {
      "cell_type": "code",
      "metadata": {
        "id": "XkALrHCD9RXb",
        "colab_type": "code",
        "colab": {}
      },
      "source": [
        "import numpy as np"
      ],
      "execution_count": 47,
      "outputs": []
    },
    {
      "cell_type": "code",
      "metadata": {
        "id": "ODY06VFl9T7p",
        "colab_type": "code",
        "colab": {}
      },
      "source": [
        "x = np.argmax(yp[400])"
      ],
      "execution_count": 50,
      "outputs": []
    },
    {
      "cell_type": "code",
      "metadata": {
        "id": "8UfH15RR9Y-5",
        "colab_type": "code",
        "colab": {
          "base_uri": "https://localhost:8080/",
          "height": 34
        },
        "outputId": "a0de4e56-74d4-4e53-f7c6-026388d8a3a1"
      },
      "source": [
        "print(\"Predicted Picture is of a \", names[x])"
      ],
      "execution_count": 51,
      "outputs": [
        {
          "output_type": "stream",
          "text": [
            "Predicted Picture is of a  large man-made outdoor things\n"
          ],
          "name": "stdout"
        }
      ]
    },
    {
      "cell_type": "code",
      "metadata": {
        "id": "P_Itk_xQ9Zml",
        "colab_type": "code",
        "colab": {}
      },
      "source": [
        ""
      ],
      "execution_count": 33,
      "outputs": []
    }
  ]
}